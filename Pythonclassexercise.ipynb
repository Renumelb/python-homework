{
 "cells": [
  {
   "cell_type": "code",
   "execution_count": 3,
   "id": "784c4fa8-6732-42cb-9435-ad652dedb8cc",
   "metadata": {},
   "outputs": [
    {
     "name": "stdout",
     "output_type": "stream",
     "text": [
      "Python\n",
      "*\\O/*\n"
     ]
    }
   ],
   "source": [
    "cheer= \"Python\"\n",
    "cheer_symbal = \"*\\O/*\"\n",
    "print(cheer)\n",
    "print(cheer_symbal)"
   ]
  },
  {
   "cell_type": "code",
   "execution_count": 16,
   "id": "9795857c-ee89-4b6d-b1b3-d01e2a7a3dc5",
   "metadata": {},
   "outputs": [
    {
     "name": "stdout",
     "output_type": "stream",
     "text": [
      "P!\n",
      "y!\n",
      "t!\n",
      "h!\n",
      "o!\n",
      "n!\n"
     ]
    }
   ],
   "source": [
    "cheer= \"Python\"\n",
    "for x in cheer:\n",
    "    print(x + \"!\")"
   ]
  },
  {
   "cell_type": "code",
   "execution_count": null,
   "id": "6d5209c4-e074-405f-acca-3bc1507df5be",
   "metadata": {},
   "outputs": [],
   "source": [
    "Pseudocode:\n",
    "1. Initialize variables original_price, current_price, increase, percent_increase, recommendation, threshold_to_buy, and threshold_to_sell\n",
    "2. Compoute increase\n",
    "3. Compute percent_increase\n",
    "4. IF percent_increase is greater than or equal to threshold_to_sell\n",
    "        THEN Set recommendation to \"sell\"\n",
    "    ELSE IF percent_increase is less than or equal to threshold_to_buy\n",
    "        THEN set recommendation to \"buy\"\n",
    "    ELSE IF percent_increase is less than threshold_to_sell and greater than threshold_to_buy\n",
    "        THEN set recommendation to \"hold\"\n",
    "    ELSE\n",
    "        THEN print(\"Not enough data to make a decision. Need human input\")\n",
    "5. Print(\"Recommendation: \" + recommendation)"
   ]
  },
  {
   "cell_type": "code",
   "execution_count": 31,
   "id": "c0acaefb-2926-469e-ac27-fcf6157fc177",
   "metadata": {},
   "outputs": [
    {
     "name": "stdout",
     "output_type": "stream",
     "text": [
      "Recommendation:Buy\n",
      "Apple's original stock price was $200\n",
      "Apples current stock price is $210.356\n",
      "Apples current stock price is $210.36\n"
     ]
    }
   ],
   "source": [
    "original_price = 200\n",
    "current_price = 210.356\n",
    "increase= current_price - original_price\n",
    "percent_increase = increase / original_price * 100\n",
    "threshold_buy = 10\n",
    "threshold_sell = 25\n",
    "if percent_increase >= threshold_sell:\n",
    "    recommendation = \"Sell\"\n",
    "elif percent_increase <= threshold_sell and percent_increase > threshold_buy:\n",
    "    recommendation = \"Hold\"\n",
    "elif percent_increase <= threshold_buy:\n",
    "    recommendation = \"Buy\"\n",
    "else:\n",
    "    print(\"Not enough data to make a decision. Need human input\")\n",
    "print(\"Recommendation:\" + recommendation)\n",
    "\n",
    "# Print original_price\n",
    "print(f\"Apple's original stock price was ${original_price}\")\n",
    "\n",
    "# Print current_price\n",
    "print(f\"Apples current stock price is ${current_price}\")\n",
    "\n",
    "# Print percent_increase to 2 decimal places using string formatting\n",
    "print(f\"Apples current stock price is ${round(current_price, 2)}\")"
   ]
  },
  {
   "cell_type": "code",
   "execution_count": null,
   "id": "0b2b7a04-0135-4791-8e9a-19e5612a188a",
   "metadata": {},
   "outputs": [],
   "source": []
  },
  {
   "cell_type": "markdown",
   "id": "aaf510d0-fc4b-41d6-a8da-443a8e0742c7",
   "metadata": {},
   "source": [
    "Initialize variable balance as float\n",
    "7. Compute balance_check\n",
    "8. Print balance\n",
    "9. IF recommendation equals \"buy\" and balance_check is greater than current_price\n",
    "        THEN print(recommendation)\n",
    "    ELSE IF recommendation equals buy and balance_check is less than current_price\n",
    "        THEN print(\"You should buy, but you don't have enough capital\")\n",
    "    ELSE\n",
    "        print(recommendation)\n"
   ]
  },
  {
   "cell_type": "code",
   "execution_count": 25,
   "id": "434c6f8d-b9ce-4c16-80de-fbcc29086b17",
   "metadata": {},
   "outputs": [
    {
     "name": "stdout",
     "output_type": "stream",
     "text": [
      "You have a current balance of $5000\n",
      "You have funds to buy\n"
     ]
    }
   ],
   "source": [
    "balance = 5000\n",
    "balance_check = balance * 5\n",
    "print(f\"You have a current balance of ${balance}\")\n",
    "if recommendation == \"Buy\" and balance_check > current_price:\n",
    "    print(\"You have funds to buy\")\n",
    "elif recommendation == \"Buy\" and balance_check < current_price:\n",
    "    print(\"You have insufficuient funds to buy\")\n",
    "else:\n",
    "    print(recommendation)"
   ]
  },
  {
   "cell_type": "markdown",
   "id": "172eb1f5-1a0a-4988-88a3-1f5226150e1a",
   "metadata": {},
   "source": [
    "Use the starter file to complete the following steps.\n",
    "Create a grocery list for the apple pie ingredients:\n",
    "Water\n",
    "Butter\n",
    "Eggs\n",
    "Apples\n",
    "Cinnamon\n",
    "Sugar\n",
    "Milk\n",
    "Find the first two items on Mike's grocery list.\n",
    "Find the last five items on Mike's grocery list.\n",
    "Find every other item, starting from the second item, on Mike's grocery list.\n",
    "Add flour to the grocery list.\n",
    "Change apples to gala apples. (Mike decides to be more specific with the types of apples needed.)\n",
    "Determine the total number of items on the grocery list."
   ]
  },
  {
   "cell_type": "code",
   "execution_count": 51,
   "id": "a74fc399-0718-42ac-97b9-5aec8eb468c3",
   "metadata": {},
   "outputs": [
    {
     "name": "stdout",
     "output_type": "stream",
     "text": [
      "['Water', 'Butter', 'Eggs', 'Apples', 'Cinnamon', 'Sugar', 'Milk']\n",
      "['Water', 'Butter']\n",
      "['Water', 'Eggs', 'Cinnamon', 'Milk']\n",
      "['Water', 'Butter', 'Eggs', 'Apples', 'Cinnamon', 'Sugar', 'Milk', 'Flour']\n",
      "['Eggs', 'Apples', 'Cinnamon', 'Sugar', 'Milk', 'Flour']\n",
      "['Water', 'Butter', 'Eggs', 'Gala apples', 'Cinnamon', 'Sugar', 'Milk', 'Flour']\n"
     ]
    }
   ],
   "source": [
    "grocery_list = [\"Water\", \"Butter\", \"Eggs\", \"Apples\", \"Cinnamon\", \"Sugar\", \"Milk\"];\n",
    "print(grocery_list)\n",
    "print(grocery_list[0:2])\n",
    "print(grocery_list[: : 2])\n",
    "grocery_list.append(\"Flour\")\n",
    "print(grocery_list)\n",
    "len(grocery_list)\n",
    "print(grocery_list[2:])\n",
    "grocery_list[3] = \"Gala apples\"\n",
    "print(grocery_list)"
   ]
  },
  {
   "cell_type": "code",
   "execution_count": 56,
   "id": "014600f7-bb75-4283-b274-b71dda266ab7",
   "metadata": {},
   "outputs": [
    {
     "name": "stdout",
     "output_type": "stream",
     "text": [
      "['Water', 'Butter', 'Eggs', 'Gala apples', 'Cinnamon', 'Milk', 'Flour']\n",
      "3\n"
     ]
    },
    {
     "ename": "ValueError",
     "evalue": "list.remove(x): x not in list",
     "output_type": "error",
     "traceback": [
      "\u001b[1;31m---------------------------------------------------------------------------\u001b[0m",
      "\u001b[1;31mValueError\u001b[0m                                Traceback (most recent call last)",
      "\u001b[1;32m<ipython-input-56-675745862ce6>\u001b[0m in \u001b[0;36m<module>\u001b[1;34m\u001b[0m\n\u001b[0;32m      1\u001b[0m \u001b[0mprint\u001b[0m\u001b[1;33m(\u001b[0m\u001b[0mgrocery_list\u001b[0m\u001b[1;33m)\u001b[0m\u001b[1;33m\u001b[0m\u001b[1;33m\u001b[0m\u001b[0m\n\u001b[0;32m      2\u001b[0m \u001b[0mprint\u001b[0m\u001b[1;33m(\u001b[0m\u001b[0mgrocery_list\u001b[0m\u001b[1;33m.\u001b[0m\u001b[0mindex\u001b[0m\u001b[1;33m(\u001b[0m\u001b[1;34m\"Gala apples\"\u001b[0m\u001b[1;33m)\u001b[0m\u001b[1;33m)\u001b[0m\u001b[1;33m\u001b[0m\u001b[1;33m\u001b[0m\u001b[0m\n\u001b[1;32m----> 3\u001b[1;33m \u001b[0mgrocery_list\u001b[0m\u001b[1;33m.\u001b[0m\u001b[0mremove\u001b[0m\u001b[1;33m(\u001b[0m\u001b[1;34m\"Sugar\"\u001b[0m\u001b[1;33m)\u001b[0m\u001b[1;33m\u001b[0m\u001b[1;33m\u001b[0m\u001b[0m\n\u001b[0m\u001b[0;32m      4\u001b[0m \u001b[0mprint\u001b[0m\u001b[1;33m(\u001b[0m\u001b[0mgrocery_list\u001b[0m\u001b[1;33m)\u001b[0m\u001b[1;33m\u001b[0m\u001b[1;33m\u001b[0m\u001b[0m\n\u001b[0;32m      5\u001b[0m \u001b[0mwaterrem\u001b[0m \u001b[1;33m=\u001b[0m \u001b[0mgrocery_list\u001b[0m\u001b[1;33m.\u001b[0m\u001b[0mindex\u001b[0m\u001b[1;33m(\u001b[0m\u001b[1;34m\"Water\"\u001b[0m\u001b[1;33m)\u001b[0m\u001b[1;33m\u001b[0m\u001b[1;33m\u001b[0m\u001b[0m\n",
      "\u001b[1;31mValueError\u001b[0m: list.remove(x): x not in list"
     ]
    }
   ],
   "source": [
    "print(grocery_list)\n",
    "print(grocery_list.index(\"Gala apples\"))\n",
    "grocery_list.remove(\"Sugar\")\n",
    "print(grocery_list)\n",
    "waterrem = grocery_list.index(\"Water\")\n",
    "print(waterrem)"
   ]
  },
  {
   "cell_type": "code",
   "execution_count": 66,
   "id": "390e6d1e-19f8-4164-87ca-7dbc83926e7a",
   "metadata": {},
   "outputs": [
    {
     "name": "stdout",
     "output_type": "stream",
     "text": [
      "['Butter', 'Eggs', 'Gala apples', 'Cinnamon', 'Milk']\n",
      "['Butter', 'Eggs', 'Gala apples', 'Cinnamon']\n"
     ]
    }
   ],
   "source": [
    "#print(grocery_list)\n",
    "#water_index = grocery_list.index(\"Water\")\n",
    "#print(water_index)\n",
    "#grocery_list.pop(water_index)\n",
    "print(grocery_list)\n",
    "grocery_list.pop(-1)\n",
    "print(grocery_list)"
   ]
  },
  {
   "cell_type": "markdown",
   "id": "95a7e9ea-6740-4a02-8061-6a1256d3e03c",
   "metadata": {},
   "source": [
    "# Initialize the metric variables\n",
    "count = 0\n",
    "total = 0\n",
    "average = 0\n",
    "minimum = 0\n",
    "maximum = 0\n",
    "\n",
    "# Initialize lists to hold profitable and unprofitable day profits/losses\n",
    "profitable_days = []\n",
    "unprofitable_days = []\n",
    "\n",
    "# List of trading profits/losses\n",
    "trading_pnl = [ -224,  352, 252, 354, -544,\n",
    "                -650,   56, 123, -43,  254,\n",
    "                 325, -123,  47, 321,  123,\n",
    "                 133, -151, 613, 232, -311 ]\n"
   ]
  },
  {
   "cell_type": "code",
   "execution_count": 87,
   "id": "fe576703-8069-4228-9bd0-1332d520002d",
   "metadata": {},
   "outputs": [
    {
     "name": "stdout",
     "output_type": "stream",
     "text": [
      "Sum of trading $1139\n",
      "Total trading days 20\n",
      "56.95\n"
     ]
    }
   ],
   "source": [
    "count = 0\n",
    "total = 0\n",
    "average = 0\n",
    "minimum = 0\n",
    "maximum = 0\n",
    "profitable_days = []\n",
    "unprofitable_days = []\n",
    "trading_pnl = [ -224,  352, 252, 354, -544,\n",
    "                -650,   56, 123, -43,  254,\n",
    "                 325, -123,  47, 321,  123,\n",
    "                 133, -151, 613, 232, -311 ]\n",
    "for each_day in trading_pnl:\n",
    "    total += each_day\n",
    "    count += 1\n",
    "print(f\"Sum of trading ${total}\")\n",
    "print(f\"Total trading days {count}\")\n",
    "len(trading_pnl)\n",
    "average = total / len(trading_pnl)\n",
    "print(average)\n"
   ]
  },
  {
   "cell_type": "code",
   "execution_count": 77,
   "id": "af574ba7-55c6-4a87-b67f-32ed8cf1ab13",
   "metadata": {},
   "outputs": [
    {
     "name": "stdout",
     "output_type": "stream",
     "text": [
      "-650\n"
     ]
    }
   ],
   "source": [
    "minimum = 0\n",
    "for each_day in trading_pnl:\n",
    "    if minimum == 0:\n",
    "        minimum = each_day\n",
    "    elif each_day < minimum:\n",
    "        minimum= each_day\n",
    "print(minimum)\n"
   ]
  },
  {
   "cell_type": "code",
   "execution_count": 78,
   "id": "e98e9226-1360-4e49-a517-6329021f30bf",
   "metadata": {},
   "outputs": [
    {
     "name": "stdout",
     "output_type": "stream",
     "text": [
      "613\n"
     ]
    }
   ],
   "source": [
    "maximum = 0\n",
    "for each_day in trading_pnl:\n",
    "    if maximum == 0:\n",
    "        maximum = each_day\n",
    "    elif each_day > maximum:\n",
    "        maximum = each_day\n",
    "print(maximum)"
   ]
  },
  {
   "cell_type": "code",
   "execution_count": 91,
   "id": "1738e067-9173-4870-abd5-61796c15443f",
   "metadata": {},
   "outputs": [
    {
     "name": "stdout",
     "output_type": "stream",
     "text": [
      "[352, 252, 354, 56, 123, 254, 325, 47, 321, 123, 133, 613, 232, 352, 252, 354, 56, 123, 254, 325, 47, 321, 123, 133, 613, 232, 352, 252, 354, 56, 123, 254, 325, 47, 321, 123, 133, 613, 232, 352, 252, 354, 56, 123, 254, 325, 47, 321, 123, 133, 613, 232]\n",
      "[-224, -544, -650, -43, -123, -151, -311, -224, -544, -650, -43, -123, -151, -311, -224, -544, -650, -43, -123, -151, -311, -224, -544, -650, -43, -123, -151, -311]\n",
      "52\n",
      "28\n",
      "2.6\n"
     ]
    }
   ],
   "source": [
    "for each_day in trading_pnl:\n",
    "    if each_day > 0:\n",
    "         profitable_days.append(each_day)\n",
    "    else:\n",
    "        unprofitable_days.append(each_day)\n",
    "print(profitable_days)\n",
    "print(unprofitable_days)\n",
    "print(len(profitable_days))\n",
    "print(len(unprofitable_days))\n",
    "print(len(profitable_days) / len(trading_pnl))\n"
   ]
  },
  {
   "cell_type": "markdown",
   "id": "64494e3b-b98a-4d55-8fda-9f67d9ff9068",
   "metadata": {},
   "source": [
    "Initialize the dictionary of banks. Add the following key-value pairs:\n",
    "\n",
    "JP Morgan Chase: 327\n",
    "Bank of America: 302\n",
    "Citigroup: 173\n",
    "Wells Fargo: 273\n",
    "Goldman Sachs: 87\n",
    "Morgan Stanley: 72\n",
    "U.S. Bancorp: 83\n",
    "TD Bank: 108\n",
    "PNC Financial Services: 67\n",
    "Capital One: 47\n",
    "FNB Corporation: 4\n",
    "First Hawaiian Bank: 3\n",
    "Ally Financial: 12\n",
    "Wachovia: 145\n",
    "Republic Bancorp: .97 "
   ]
  },
  {
   "cell_type": "code",
   "execution_count": 108,
   "id": "ebbd5315-b819-4532-99aa-66060025e5b1",
   "metadata": {},
   "outputs": [
    {
     "name": "stdout",
     "output_type": "stream",
     "text": [
      "{'JP Morgan Chase': 327, 'Bank of America': 302, 'Citigroup': 173, 'Wells Fargo': 273, 'Goldman Sachs': 87, 'Morgan Stanley': 72, 'U.S. Bancorp': 83, 'TD Bank': 108, 'PNC Financial Services': 67, 'Capital One': 47, 'FNB Corporation': 4, 'First Hawaiian Bank': 3, 'Ally Financial': 12, 'Wachovia': 145, 'Republic Bancorp': 0.97, 'AMEX': 33}\n"
     ]
    }
   ],
   "source": [
    "banks_price = {\n",
    "    \"JP Morgan Chase\" : 327,\n",
    "     \"Bank of America\" : 302,\n",
    "     \"Citigroup\" : 173,\n",
    "     \"Wells Fargo\" : 273,\n",
    "     \"Goldman Sachs\" : 87,\n",
    "     \"Morgan Stanley\" : 72,\n",
    "     \"U.S. Bancorp\" : 83,\n",
    "     \"TD Bank\" : 108,\n",
    "     \"PNC Financial Services\" : 67,\n",
    "     \"Capital One\" : 47,\n",
    "     \"FNB Corporation\" : 4,\n",
    "     \"First Hawaiian Bank\" : 3,\n",
    "     \"Ally Financial\" : 12,\n",
    "     \"Wachovia\" : 145,\n",
    "     \"Republic Bancorp\" : .97\n",
    "}\n",
    "#banks_price['Citigroup'] = 170\n",
    "#print(banks_price)\n",
    "banks_price[\"AMEX\"] = 33\n",
    "print(banks_price)"
   ]
  },
  {
   "cell_type": "code",
   "execution_count": 118,
   "id": "fea8b37e-2c5d-434e-a8aa-23fd0fb6a58c",
   "metadata": {},
   "outputs": [
    {
     "name": "stdout",
     "output_type": "stream",
     "text": [
      "{'JP Morgan Chase': 327, 'Bank of America': 302, 'Citigroup': 173, 'Wells Fargo': 273, 'Goldman Sachs': 87, 'Morgan Stanley': 72, 'U.S. Bancorp': 83, 'TD Bank': 108, 'PNC Financial Services': 67, 'Capital One': 47, 'FNB Corporation': 4, 'First Hawaiian Bank': 3, 'Ally Financial': 12, 'Republic Bancorp': 0.97}\n"
     ]
    }
   ],
   "source": [
    "#del banks_price[\"Wachovia\"]\n",
    "del banks_price['AMEX']\n",
    "print(banks_price)"
   ]
  },
  {
   "cell_type": "code",
   "execution_count": null,
   "id": "216ece00-015d-42b7-ac94-9a5d6f594edd",
   "metadata": {},
   "outputs": [],
   "source": [
    "# Initialize metric variables\n",
    "total_market_cap = 0\n",
    "bank_count = 0\n",
    "average = 0\n",
    "\n",
    "# Initialize minimum key-value pair\n",
    "minimum_key = \"\"\n",
    "minimum_value = 0\n",
    "\n",
    "# Initialize maximum key-value pair\n",
    "maximum_key = \"\"\n",
    "maximum_value = 0\n"
   ]
  },
  {
   "cell_type": "code",
   "execution_count": 131,
   "id": "30f4adac-a70f-4eed-a5bc-b6fec7d09c4d",
   "metadata": {},
   "outputs": [
    {
     "name": "stdout",
     "output_type": "stream",
     "text": [
      "Total Market Capialisation is: $1558\n",
      "14\n"
     ]
    }
   ],
   "source": [
    "total_market_cap = 0\n",
    "bank_count = 0\n",
    "average = 0\n",
    "minimum_key = \"\"\n",
    "minimum_value = 0\n",
    "maximum_key = \"\"\n",
    "maximum_value = 0\n",
    "for bank_name, market_cap in banks_price.items():\n",
    "    #rint(f\"Bank Name: {bank_name}) | Market Cap: ${market_cap}\")\n",
    "    total_market_cap += int(market_cap)\n",
    "    bank_count += 1\n",
    "print(f\"Total Market Capialisation is: ${round(total_market_cap,2)}\")\n",
    "print(bank_count)\n",
    "#print(f\"Name: {bank_name} | Market Cap: {market_cap}\")"
   ]
  },
  {
   "cell_type": "code",
   "execution_count": 136,
   "id": "d057934b-eab9-4f84-9804-ea0a3d1a1547",
   "metadata": {},
   "outputs": [
    {
     "name": "stdout",
     "output_type": "stream",
     "text": [
      "0.97\n"
     ]
    }
   ],
   "source": [
    "minimum_value = 0\n",
    "maximum_value = 0\n",
    "for bank_name, market_cap in banks_price.items():\n",
    "    if minimum_value == 0:\n",
    "        minimum_value = market_cap\n",
    "    else:\n",
    "        minimum_value < 0\n",
    "        minimum_value = market_cap\n",
    "print(minimum_value)"
   ]
  },
  {
   "cell_type": "code",
   "execution_count": 148,
   "id": "52b54a27-6b7e-4c78-ad0b-a60f0dfde8da",
   "metadata": {},
   "outputs": [
    {
     "name": "stdout",
     "output_type": "stream",
     "text": [
      "327\n"
     ]
    }
   ],
   "source": [
    "for bank_name, market_cap in banks_price.items():\n",
    "    if maximum_value == 0:\n",
    "        maximum_value = market_cap\n",
    "    elif market_cap > maximum_value:\n",
    "        maximum_value = market_cap\n",
    "print(maximum_value)\n",
    "      \n"
   ]
  },
  {
   "cell_type": "code",
   "execution_count": 155,
   "id": "5e474468-7628-4029-b92e-73323ca16977",
   "metadata": {},
   "outputs": [
    {
     "name": "stdout",
     "output_type": "stream",
     "text": [
      "['JP Morgan Chase', 'Bank of America']\n",
      "['Wells Fargo']\n",
      "['Citigroup', 'Goldman Sachs', 'Morgan Stanley', 'U.S. Bancorp', 'TD Bank', 'PNC Financial Services', 'Capital One', 'FNB Corporation', 'First Hawaiian Bank', 'Ally Financial', 'Republic Bancorp']\n"
     ]
    }
   ],
   "source": [
    "mega_cap = []\n",
    "mid_cap = []\n",
    "small_cap = []\n",
    "for bank_name, market_cap in banks_price.items(): \n",
    "    if market_cap > 300:\n",
    "        mega_cap.append(bank_name)\n",
    "    elif market_cap < 300 and market_cap > 200:\n",
    "        mid_cap.append(bank_name)\n",
    "    elif market_cap < 200:\n",
    "        small_cap.append(bank_name)\n",
    "print(mega_cap)\n",
    "print(mid_cap)\n",
    "print(small_cap)\n",
    "        "
   ]
  },
  {
   "cell_type": "markdown",
   "id": "ab59330a-9789-448a-af2d-e8ebbde5fa8f",
   "metadata": {},
   "source": [
    "In this activity, define a function named calculate_compound_growth_rate that will accept three arguments:\n",
    "beginning_balance\n",
    "ending_balance\n",
    "years\n",
    "The function should output a float as growth_rate.\n",
    "Modularize this code so that you can dynamically calculate compound annual growth rate (CAGR) by simply calling a function with the required inputs. The results will indicate how you've been functioning as a trader.\n",
    "CAGR is valuable, as it calculates and predicts growth rate earnings and percent increase or decrease of a stock, portfolio, or bank account. This will be useful when trying to evaluate portfolio/stock performance or when choosing which savings account might produce the most return."
   ]
  },
  {
   "cell_type": "code",
   "execution_count": 161,
   "id": "9519d0da-8381-4220-b520-f7003b0704e7",
   "metadata": {},
   "outputs": [
    {
     "name": "stdout",
     "output_type": "stream",
     "text": [
      "0.55\n"
     ]
    }
   ],
   "source": [
    "beginning_balance = 29000\n",
    "ending_balance = 45000\n",
    "years = 1\n",
    "growth_rate = 0\n",
    "compound_growth_rate = 0\n",
    "def calculate_compound_growth_rate(beginning_balance, ending_balance, years):\n",
    "    growth_rate = (ending_balance / beginning_balance)**(1/years) - 1\n",
    "    return growth_rate\n",
    "year_one_growth = calculate_compound_growth_rate(beginning_balance, ending_balance, years)\n",
    "print(round(year_one_growth,2))"
   ]
  },
  {
   "cell_type": "code",
   "execution_count": 163,
   "id": "02f4a7a3-8b49-44a1-b278-6842ae14e141",
   "metadata": {},
   "outputs": [
    {
     "name": "stdout",
     "output_type": "stream",
     "text": [
      "0.04\n"
     ]
    }
   ],
   "source": [
    "beginning_balance = 45000.10\n",
    "ending_balance = 47000.00\n",
    "year_two_growth_rate = calculate_compound_growth_rate(beginning_balance, ending_balance, years)\n",
    "print(round(year_two_growth_rate,2))"
   ]
  },
  {
   "cell_type": "code",
   "execution_count": 165,
   "id": "19df86bf-da10-4dff-b229-0be4b410528a",
   "metadata": {},
   "outputs": [
    {
     "name": "stdout",
     "output_type": "stream",
     "text": [
      "[0.55, 0.04]\n"
     ]
    }
   ],
   "source": [
    "growth_rates = list()\n",
    "growth_rates.append(round(year_one_growth,2))\n",
    "growth_rates.append(round(year_two_growth_rate,2))\n",
    "print(growth_rates)"
   ]
  },
  {
   "cell_type": "code",
   "execution_count": 218,
   "id": "ce740d40-446d-4384-b686-21742415d2bc",
   "metadata": {},
   "outputs": [
    {
     "name": "stdout",
     "output_type": "stream",
     "text": [
      "Bronze\n",
      "Platinum\n",
      "Bronze\n"
     ]
    }
   ],
   "source": [
    "customers = [\n",
    "        {'first_name' : \"Tom\", \"last_name\" : \"Smith\", \"Revenue\" : 100},\n",
    "        {'first_name' : \"Sally\", \"last_name\" : \"Master\", \"Revenue\" : 3100},\n",
    "         {'first_name' : \"Peter\", \"last_name\" : \"Crazy\", \"Revenue\" : 250}\n",
    "]\n",
    "def create_greeting(first_name, last_name, revenue):\n",
    "    if revenue > 301:\n",
    "        custcat= \"Platinum\"           \n",
    "    elif (revenue >= 200 and revenue >= 300):\n",
    "        custcat = \"Gold\"\n",
    "    else:\n",
    "        custcat = \"Bronze\"\n",
    "    return custcat\n",
    "\n",
    "for customer in customers:\n",
    "    greeting = create_greeting(customer['first_name'], customer['last_name'], customer['Revenue'])\n",
    "    print(greeting)\n"
   ]
  },
  {
   "cell_type": "code",
   "execution_count": 220,
   "id": "83caf32b-ebda-4f39-a087-c064f963a5c0",
   "metadata": {},
   "outputs": [
    {
     "name": "stdout",
     "output_type": "stream",
     "text": [
      "666.6666666666666\n"
     ]
    }
   ],
   "source": [
    "original_investment= 1000\n",
    "Interest = .10\n",
    "Compounding = 1\n",
    "Years = 5\n",
    "price = 700\n",
    "\n",
    "def present_value(original_investment, Interest, Compounding, Years):\n",
    "    pv= original_investment / (1 + (Interest/ Compounding) ** Compounding * Years)\n",
    "    return pv\n",
    "\n",
    "first_test = present_value(original_investment, Interest, Compounding, Years)\n",
    "print(first_test)\n"
   ]
  },
  {
   "cell_type": "code",
   "execution_count": 201,
   "id": "549893f5-e631-4eb2-b708-ff7547bf02c8",
   "metadata": {},
   "outputs": [
    {
     "name": "stdout",
     "output_type": "stream",
     "text": [
      "11000.0\n"
     ]
    }
   ],
   "source": [
    "def future_value(initial_investment, Interest, Compounding, Years):\n",
    "    fv = (initial_investment) * ((1 + Interest/Compounding) ** (Compounding * Years))\n",
    "    return fv\n",
    "second_test = future_value(10000, .10, 1, 1)\n",
    "print(second_test)\n",
    "    "
   ]
  },
  {
   "cell_type": "code",
   "execution_count": 235,
   "id": "ce86d17a-fb2e-44d8-bd82-ba28df4eabf7",
   "metadata": {},
   "outputs": [
    {
     "name": "stdout",
     "output_type": "stream",
     "text": [
      "{'conservative': 267.94617853971704, 'neutral': 401.91926780957544, 'aggressive': 285.8923570794341}\n",
      " Project scenario neutral the best return is 401.91926780957544\n"
     ]
    }
   ],
   "source": [
    "cash_flows_conservative = [-1000, 400, 400, 400, 400]\n",
    "cash_flows_neutral = [-1500, 600, 600, 600, 600]\n",
    "cash_flows_aggressive = [-2250, 800, 800, 800, 800]\n",
    "discount_rate = .10\n",
    "import numpy_financial as npf\n",
    "npv_dict={}\n",
    "npv_dict['conservative'] = npf.npv(discount_rate, cash_flows_conservative)\n",
    "npv_dict['neutral'] = npf.npv(discount_rate, cash_flows_neutral)\n",
    "npv_dict['aggressive'] = npf.npv(discount_rate, cash_flows_aggressive)\n",
    "print(npv_dict)\n",
    "max_value = 0\n",
    "key_value = 0\n",
    "min_value = 0\n",
    "\n",
    "for key, value in npv_dict.items():\n",
    "    if max_value == 0:\n",
    "        max_value = value\n",
    "        max_key = key\n",
    "    elif value > max_value:\n",
    "        max_value = value\n",
    "        max_key = key\n",
    "print(f\" Project scenario {max_key} the best return is {max_value}\")"
   ]
  },
  {
   "cell_type": "code",
   "execution_count": 248,
   "id": "5470604f-f623-45e5-a6e7-e347468a1d4c",
   "metadata": {},
   "outputs": [
    {
     "name": "stdout",
     "output_type": "stream",
     "text": [
      "Current Working Directory: C:\\Users\\User\\Documents\\Renu\\python-homework\n",
      "Traffic for the customer is:4945 and Number of days is 100\n",
      "49.45\n"
     ]
    }
   ],
   "source": [
    "from pathlib import Path\n",
    "print(f\"Current Working Directory: {Path.cwd()}\")\n",
    "customer_count = 0\n",
    "day_count = 0\n",
    "file = Path('C:/Users/User/Documents/Renu/python-homework/customer_traffic.txt')\n",
    "with open(file, 'r') as file:\n",
    "    for line in file:\n",
    "        number = int(line)\n",
    "        customer_count += number\n",
    "        day_count += 1\n",
    "print(f\"Traffic for the customer is:{customer_count} and Number of days is {day_count}\")\n",
    "daily_average = customer_count / day_count\n",
    "print(round(daily_average,2))\n",
    "output_path = 'customerresults.txt'\n",
    "with open(output_path, 'w') as file:\n",
    "    # Write daily_average to the output file, convert to string\n",
    "    file.write(f\"There were {customer_count} customers over the course of {day_count} days.\\n\")\n",
    "    file.write(f\"The average daily customer traffic is {daily_average} customers per day.\")\n"
   ]
  },
  {
   "cell_type": "code",
   "execution_count": null,
   "id": "5a0837ca-66a3-4f84-b056-1fa74387700b",
   "metadata": {},
   "outputs": [],
   "source": []
  },
  {
   "cell_type": "code",
   "execution_count": 26,
   "id": "6a035044-8ebb-4406-949f-eb63964d5cf3",
   "metadata": {},
   "outputs": [
    {
     "name": "stdout",
     "output_type": "stream",
     "text": [
      "Current Working Directory: C:\\Users\\User\\Documents\\Renu\\python-homework\n",
      "['Andrew', '9', '58']\n",
      "['Phil', '8', '377']\n",
      "['Madison', '5', '302']\n",
      "['Sally', '1', '75']\n",
      "['Tyler', '1', '334']\n",
      "['Billy', '7', '146']\n",
      "['Steve', '1', '178']\n",
      "['Madison', '7', '313']\n",
      "{'Andrew': {'count': 9, 'Revenue': 58}, 'Phil': {'count': 8, 'Revenue': 377}, 'Madison': {'count': 12, 'Revenue': 615}, 'Sally': {'count': 1, 'Revenue': 75}, 'Tyler': {'count': 1, 'Revenue': 334}, 'Billy': {'count': 7, 'Revenue': 146}, 'Steve': {'count': 1, 'Revenue': 178}}\n",
      "['Sarah', '8', '103']\n",
      "['Tim', '5', '344']\n",
      "['Andrew', '5', '349']\n",
      "{'Andrew': {'count': 14, 'Revenue': 407}, 'Phil': {'count': 8, 'Revenue': 377}, 'Madison': {'count': 12, 'Revenue': 615}, 'Sally': {'count': 1, 'Revenue': 75}, 'Tyler': {'count': 1, 'Revenue': 334}, 'Billy': {'count': 7, 'Revenue': 146}, 'Steve': {'count': 1, 'Revenue': 178}, 'Sarah': {'count': 8, 'Revenue': 103}, 'Tim': {'count': 5, 'Revenue': 344}}\n",
      "['Phil', '8', '61']\n",
      "{'Andrew': {'count': 14, 'Revenue': 407}, 'Phil': {'count': 16, 'Revenue': 438}, 'Madison': {'count': 12, 'Revenue': 615}, 'Sally': {'count': 1, 'Revenue': 75}, 'Tyler': {'count': 1, 'Revenue': 334}, 'Billy': {'count': 7, 'Revenue': 146}, 'Steve': {'count': 1, 'Revenue': 178}, 'Sarah': {'count': 8, 'Revenue': 103}, 'Tim': {'count': 5, 'Revenue': 344}}\n",
      "['Madison', '4', '196']\n",
      "{'Andrew': {'count': 14, 'Revenue': 407}, 'Phil': {'count': 16, 'Revenue': 438}, 'Madison': {'count': 16, 'Revenue': 811}, 'Sally': {'count': 1, 'Revenue': 75}, 'Tyler': {'count': 1, 'Revenue': 334}, 'Billy': {'count': 7, 'Revenue': 146}, 'Steve': {'count': 1, 'Revenue': 178}, 'Sarah': {'count': 8, 'Revenue': 103}, 'Tim': {'count': 5, 'Revenue': 344}}\n",
      "['Carl', '1', '374']\n",
      "['Devon', '9', '220']\n",
      "['Megan', '9', '321']\n",
      "['Sarah', '7', '277']\n",
      "{'Andrew': {'count': 14, 'Revenue': 407}, 'Phil': {'count': 16, 'Revenue': 438}, 'Madison': {'count': 16, 'Revenue': 811}, 'Sally': {'count': 1, 'Revenue': 75}, 'Tyler': {'count': 1, 'Revenue': 334}, 'Billy': {'count': 7, 'Revenue': 146}, 'Steve': {'count': 1, 'Revenue': 178}, 'Sarah': {'count': 15, 'Revenue': 380}, 'Tim': {'count': 5, 'Revenue': 344}, 'Carl': {'count': 1, 'Revenue': 374}, 'Devon': {'count': 9, 'Revenue': 220}, 'Megan': {'count': 9, 'Revenue': 321}}\n",
      "['David', '2', '246']\n",
      "['Sally', '9', '198']\n",
      "{'Andrew': {'count': 14, 'Revenue': 407}, 'Phil': {'count': 16, 'Revenue': 438}, 'Madison': {'count': 16, 'Revenue': 811}, 'Sally': {'count': 10, 'Revenue': 273}, 'Tyler': {'count': 1, 'Revenue': 334}, 'Billy': {'count': 7, 'Revenue': 146}, 'Steve': {'count': 1, 'Revenue': 178}, 'Sarah': {'count': 15, 'Revenue': 380}, 'Tim': {'count': 5, 'Revenue': 344}, 'Carl': {'count': 1, 'Revenue': 374}, 'Devon': {'count': 9, 'Revenue': 220}, 'Megan': {'count': 9, 'Revenue': 321}, 'David': {'count': 2, 'Revenue': 246}}\n",
      "['Tom', '5', '221']\n",
      "['Andrew', '1', '191']\n",
      "{'Andrew': {'count': 15, 'Revenue': 598}, 'Phil': {'count': 16, 'Revenue': 438}, 'Madison': {'count': 16, 'Revenue': 811}, 'Sally': {'count': 10, 'Revenue': 273}, 'Tyler': {'count': 1, 'Revenue': 334}, 'Billy': {'count': 7, 'Revenue': 146}, 'Steve': {'count': 1, 'Revenue': 178}, 'Sarah': {'count': 15, 'Revenue': 380}, 'Tim': {'count': 5, 'Revenue': 344}, 'Carl': {'count': 1, 'Revenue': 374}, 'Devon': {'count': 9, 'Revenue': 220}, 'Megan': {'count': 9, 'Revenue': 321}, 'David': {'count': 2, 'Revenue': 246}, 'Tom': {'count': 5, 'Revenue': 221}}\n",
      "['Paul', '5', '399']\n",
      "['Carl', '1', '300']\n",
      "{'Andrew': {'count': 15, 'Revenue': 598}, 'Phil': {'count': 16, 'Revenue': 438}, 'Madison': {'count': 16, 'Revenue': 811}, 'Sally': {'count': 10, 'Revenue': 273}, 'Tyler': {'count': 1, 'Revenue': 334}, 'Billy': {'count': 7, 'Revenue': 146}, 'Steve': {'count': 1, 'Revenue': 178}, 'Sarah': {'count': 15, 'Revenue': 380}, 'Tim': {'count': 5, 'Revenue': 344}, 'Carl': {'count': 2, 'Revenue': 674}, 'Devon': {'count': 9, 'Revenue': 220}, 'Megan': {'count': 9, 'Revenue': 321}, 'David': {'count': 2, 'Revenue': 246}, 'Tom': {'count': 5, 'Revenue': 221}, 'Paul': {'count': 5, 'Revenue': 399}}\n",
      "['Tim', '1', '345']\n",
      "{'Andrew': {'count': 15, 'Revenue': 598}, 'Phil': {'count': 16, 'Revenue': 438}, 'Madison': {'count': 16, 'Revenue': 811}, 'Sally': {'count': 10, 'Revenue': 273}, 'Tyler': {'count': 1, 'Revenue': 334}, 'Billy': {'count': 7, 'Revenue': 146}, 'Steve': {'count': 1, 'Revenue': 178}, 'Sarah': {'count': 15, 'Revenue': 380}, 'Tim': {'count': 6, 'Revenue': 689}, 'Carl': {'count': 2, 'Revenue': 674}, 'Devon': {'count': 9, 'Revenue': 220}, 'Megan': {'count': 9, 'Revenue': 321}, 'David': {'count': 2, 'Revenue': 246}, 'Tom': {'count': 5, 'Revenue': 221}, 'Paul': {'count': 5, 'Revenue': 399}}\n",
      "['Madison', '4', '202']\n",
      "{'Andrew': {'count': 15, 'Revenue': 598}, 'Phil': {'count': 16, 'Revenue': 438}, 'Madison': {'count': 20, 'Revenue': 1013}, 'Sally': {'count': 10, 'Revenue': 273}, 'Tyler': {'count': 1, 'Revenue': 334}, 'Billy': {'count': 7, 'Revenue': 146}, 'Steve': {'count': 1, 'Revenue': 178}, 'Sarah': {'count': 15, 'Revenue': 380}, 'Tim': {'count': 6, 'Revenue': 689}, 'Carl': {'count': 2, 'Revenue': 674}, 'Devon': {'count': 9, 'Revenue': 220}, 'Megan': {'count': 9, 'Revenue': 321}, 'David': {'count': 2, 'Revenue': 246}, 'Tom': {'count': 5, 'Revenue': 221}, 'Paul': {'count': 5, 'Revenue': 399}}\n",
      "['John', '4', '305']\n",
      "['Phil', '6', '249']\n",
      "{'Andrew': {'count': 15, 'Revenue': 598}, 'Phil': {'count': 22, 'Revenue': 687}, 'Madison': {'count': 20, 'Revenue': 1013}, 'Sally': {'count': 10, 'Revenue': 273}, 'Tyler': {'count': 1, 'Revenue': 334}, 'Billy': {'count': 7, 'Revenue': 146}, 'Steve': {'count': 1, 'Revenue': 178}, 'Sarah': {'count': 15, 'Revenue': 380}, 'Tim': {'count': 6, 'Revenue': 689}, 'Carl': {'count': 2, 'Revenue': 674}, 'Devon': {'count': 9, 'Revenue': 220}, 'Megan': {'count': 9, 'Revenue': 321}, 'David': {'count': 2, 'Revenue': 246}, 'Tom': {'count': 5, 'Revenue': 221}, 'Paul': {'count': 5, 'Revenue': 399}, 'John': {'count': 4, 'Revenue': 305}}\n",
      "['Madison', '7', '113']\n",
      "{'Andrew': {'count': 15, 'Revenue': 598}, 'Phil': {'count': 22, 'Revenue': 687}, 'Madison': {'count': 27, 'Revenue': 1126}, 'Sally': {'count': 10, 'Revenue': 273}, 'Tyler': {'count': 1, 'Revenue': 334}, 'Billy': {'count': 7, 'Revenue': 146}, 'Steve': {'count': 1, 'Revenue': 178}, 'Sarah': {'count': 15, 'Revenue': 380}, 'Tim': {'count': 6, 'Revenue': 689}, 'Carl': {'count': 2, 'Revenue': 674}, 'Devon': {'count': 9, 'Revenue': 220}, 'Megan': {'count': 9, 'Revenue': 321}, 'David': {'count': 2, 'Revenue': 246}, 'Tom': {'count': 5, 'Revenue': 221}, 'Paul': {'count': 5, 'Revenue': 399}, 'John': {'count': 4, 'Revenue': 305}}\n",
      "['Sally', '6', '256']\n",
      "{'Andrew': {'count': 15, 'Revenue': 598}, 'Phil': {'count': 22, 'Revenue': 687}, 'Madison': {'count': 27, 'Revenue': 1126}, 'Sally': {'count': 16, 'Revenue': 529}, 'Tyler': {'count': 1, 'Revenue': 334}, 'Billy': {'count': 7, 'Revenue': 146}, 'Steve': {'count': 1, 'Revenue': 178}, 'Sarah': {'count': 15, 'Revenue': 380}, 'Tim': {'count': 6, 'Revenue': 689}, 'Carl': {'count': 2, 'Revenue': 674}, 'Devon': {'count': 9, 'Revenue': 220}, 'Megan': {'count': 9, 'Revenue': 321}, 'David': {'count': 2, 'Revenue': 246}, 'Tom': {'count': 5, 'Revenue': 221}, 'Paul': {'count': 5, 'Revenue': 399}, 'John': {'count': 4, 'Revenue': 305}}\n"
     ]
    }
   ],
   "source": [
    "from pathlib import Path\n",
    "import csv\n",
    "print(f\"Current Working Directory: {Path.cwd()}\")\n",
    "from pathlib import Path\n",
    "import csv\n",
    "#file2 = Path('C:/Users/User/Documents/Renu/python-homework/sales.csv')\n",
    "file2 = Path('./sales.csv')\n",
    "analysis = {}\n",
    "with open(file2, \"r\") as csvfile:\n",
    "    csvreader = csv.reader(csvfile, delimiter=\",\")\n",
    "    csv_header = next(csvfile)\n",
    "    #print(csv_header)\n",
    "    for row in csvreader:\n",
    "        print(row)\n",
    "        name= row[0]\n",
    "        count = int(row[1])\n",
    "        revenue = int(row[2])\n",
    "#          \n",
    "#\n",
    "        if name not in analysis.keys():\n",
    "            analysis[name] = {\"count\" : count, \"Revenue\" : revenue}\n",
    "        else:    \n",
    "            analysis[name][\"count\"] += count\n",
    "            analysis[name][\"Revenue\"] += revenue\n",
    "            print(analysis)\n",
    "        "
   ]
  }
 ],
 "metadata": {
  "kernelspec": {
   "display_name": "Python 3",
   "language": "python",
   "name": "python3"
  },
  "language_info": {
   "codemirror_mode": {
    "name": "ipython",
    "version": 3
   },
   "file_extension": ".py",
   "mimetype": "text/x-python",
   "name": "python",
   "nbconvert_exporter": "python",
   "pygments_lexer": "ipython3",
   "version": "3.7.10"
  }
 },
 "nbformat": 4,
 "nbformat_minor": 5
}
