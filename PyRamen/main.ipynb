{
 "cells": [
  {
   "cell_type": "markdown",
   "id": "904f4ce8-2cfc-4665-8b25-7cd9b3fef4e1",
   "metadata": {},
   "source": [
    "Pseudocode:\n",
    "- Load the csv file to a list\n",
    "- Create variables\n",
    "    1. Empty list to hold menu\n",
    "    2. Empty dictionary to hold results\n",
    "    3. Total sales count per ramen type, total revenue per ramen, COGS for ecah ramen (sales less qty sold*cost per unit), Profit per ramen type (sales less cogs)\n",
    "- Create a dictionary to load product results- total count, total revenue, cogs and profit per menu item"
   ]
  },
  {
   "cell_type": "code",
   "execution_count": 31,
   "id": "f78d01e1-3a23-4a01-8e28-e28000ccfd8e",
   "metadata": {},
   "outputs": [
    {
     "ename": "SyntaxError",
     "evalue": "invalid syntax (<ipython-input-31-5d67b4305513>, line 33)",
     "output_type": "error",
     "traceback": [
      "\u001b[1;36m  File \u001b[1;32m\"<ipython-input-31-5d67b4305513>\"\u001b[1;36m, line \u001b[1;32m33\u001b[0m\n\u001b[1;33m    while item = ramen_item\u001b[0m\n\u001b[1;37m               ^\u001b[0m\n\u001b[1;31mSyntaxError\u001b[0m\u001b[1;31m:\u001b[0m invalid syntax\n"
     ]
    }
   ],
   "source": [
    "# To import menu and sales csv files:\n",
    "from pathlib import Path\n",
    "import csv\n",
    "print(f\"Current Working Directory: {Path.cwd()}\")\n",
    "menu_path = Path('./menu_data.csv')\n",
    "with open(menu_path, \"r\") as menucsvfile:\n",
    "    menucsvreader = csv.reader(menucsvfile, delimiter=\",\")\n",
    "    menucsv_header = next(menucsvfile)\n",
    "    menu_list = []\n",
    "    for item_1 in menucsvreader:\n",
    "        menu_list.append([item_1[0], item_1[1], item_1[2], item_1[3], item_1[4]])\n",
    "    #print(menu_list)\n",
    "sales_path = Path('./sales_data.csv')        \n",
    "with open(sales_path, \"r\") as salescsvfile:\n",
    "    salescsvreader = csv.reader(salescsvfile, delimiter=\",\")\n",
    "    salescsv_header = next(salescsvfile)\n",
    "    sales_list = []\n",
    "    for item2 in salescsvreader:\n",
    "        sales_list.append([item2[4], int(item2[3])])\n",
    "    #print(sales_list)\n",
    "\n",
    "# Initialise variables to create reports dictionary\n",
    "report_dict = {}\n",
    "row_count= 0\n",
    "total_qty_per_ramen = 0\n",
    "total_revenue_per_ramen = 0\n",
    "cogs_ramen = 0\n",
    "net_profit_ramen = 0\n",
    "item= 0\n",
    "for ramen_item, ramen_qty in sales_list.sort:\n",
    "    if row_count <= len(sales_list):   \n",
    "        item= ramen_item\n",
    "        while true\n",
    "            total_qty_per_ramen += ramen_qty\n",
    "            row_count += 1\n",
    "        item = ramen_item\n",
    "    else:   \n",
    "        \n",
    "   \n",
    "\n",
    "\n",
    "\n",
    "       \n",
    "        "
   ]
  },
  {
   "cell_type": "code",
   "execution_count": null,
   "id": "ae2484fc-ad55-4a60-aebb-75138debf96a",
   "metadata": {},
   "outputs": [],
   "source": []
  },
  {
   "cell_type": "code",
   "execution_count": null,
   "id": "e7556964-29f4-4f67-b41c-2744fdcbf529",
   "metadata": {},
   "outputs": [],
   "source": []
  }
 ],
 "metadata": {
  "kernelspec": {
   "display_name": "Python 3",
   "language": "python",
   "name": "python3"
  },
  "language_info": {
   "codemirror_mode": {
    "name": "ipython",
    "version": 3
   },
   "file_extension": ".py",
   "mimetype": "text/x-python",
   "name": "python",
   "nbconvert_exporter": "python",
   "pygments_lexer": "ipython3",
   "version": "3.7.10"
  }
 },
 "nbformat": 4,
 "nbformat_minor": 5
}
