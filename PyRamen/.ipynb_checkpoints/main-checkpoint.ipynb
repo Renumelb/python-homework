{
 "cells": [
  {
   "cell_type": "markdown",
   "id": "904f4ce8-2cfc-4665-8b25-7cd9b3fef4e1",
   "metadata": {},
   "source": [
    "Pseudocode:\n",
    "- Load the csv file to a list\n",
    "- Create variables\n",
    "    1. Empty list to hold menu\n",
    "    2. Empty dictionary to hold results\n",
    "    3. Total sales count per ramen type, total revenue per ramen, COGS for ecah ramen (sales less qty sold*cost per unit), Profit per ramen type (sales less cogs)\n",
    "- Create a dictionary to load product results- total count, total revenue, cogs and profit per menu item"
   ]
  },
  {
   "cell_type": "code",
   "execution_count": 29,
   "id": "f78d01e1-3a23-4a01-8e28-e28000ccfd8e",
   "metadata": {},
   "outputs": [
    {
     "name": "stdout",
     "output_type": "stream",
     "text": [
      "Current Working Directory: C:\\Users\\User\\Documents\\Renu\\python-homework\\PyRamen\n"
     ]
    },
    {
     "ename": "TypeError",
     "evalue": "'builtin_function_or_method' object is not iterable",
     "output_type": "error",
     "traceback": [
      "\u001b[1;31m---------------------------------------------------------------------------\u001b[0m",
      "\u001b[1;31mTypeError\u001b[0m                                 Traceback (most recent call last)",
      "\u001b[1;32m<ipython-input-29-ae1a8f3dba45>\u001b[0m in \u001b[0;36m<module>\u001b[1;34m\u001b[0m\n\u001b[0;32m     29\u001b[0m \u001b[1;31m#qty = int(row[0])\u001b[0m\u001b[1;33m\u001b[0m\u001b[1;33m\u001b[0m\u001b[1;33m\u001b[0m\u001b[0m\n\u001b[0;32m     30\u001b[0m \u001b[1;31m#item = row[1]\u001b[0m\u001b[1;33m\u001b[0m\u001b[1;33m\u001b[0m\u001b[1;33m\u001b[0m\u001b[0m\n\u001b[1;32m---> 31\u001b[1;33m \u001b[1;32mfor\u001b[0m \u001b[0mramen_item\u001b[0m\u001b[1;33m,\u001b[0m \u001b[0mramen_qty\u001b[0m \u001b[1;32min\u001b[0m \u001b[0msales_list\u001b[0m\u001b[1;33m.\u001b[0m\u001b[0msort\u001b[0m\u001b[1;33m:\u001b[0m\u001b[1;33m\u001b[0m\u001b[1;33m\u001b[0m\u001b[0m\n\u001b[0m\u001b[0;32m     32\u001b[0m     \u001b[1;32mif\u001b[0m \u001b[0mitem\u001b[0m \u001b[1;33m==\u001b[0m \u001b[0mramen_item\u001b[0m\u001b[1;33m:\u001b[0m\u001b[1;33m\u001b[0m\u001b[1;33m\u001b[0m\u001b[0m\n\u001b[0;32m     33\u001b[0m         \u001b[0mrow_count\u001b[0m \u001b[1;33m+=\u001b[0m \u001b[1;36m1\u001b[0m\u001b[1;33m\u001b[0m\u001b[1;33m\u001b[0m\u001b[0m\n",
      "\u001b[1;31mTypeError\u001b[0m: 'builtin_function_or_method' object is not iterable"
     ]
    }
   ],
   "source": [
    "# To import menu and sales csv files:\n",
    "from pathlib import Path\n",
    "import csv\n",
    "print(f\"Current Working Directory: {Path.cwd()}\")\n",
    "menu_path = Path('./menu_data.csv')\n",
    "with open(menu_path, \"r\") as menucsvfile:\n",
    "    menucsvreader = csv.reader(menucsvfile, delimiter=\",\")\n",
    "    menucsv_header = next(menucsvfile)\n",
    "    menu_list = []\n",
    "    for item_1 in menucsvreader:\n",
    "        menu_list.append([item_1[0], item_1[1], item_1[2], item_1[3], item_1[4]])\n",
    "    #print(menu_list)\n",
    "sales_path = Path('./sales_data.csv')        \n",
    "with open(sales_path, \"r\") as salescsvfile:\n",
    "    salescsvreader = csv.reader(salescsvfile, delimiter=\",\")\n",
    "    salescsv_header = next(salescsvfile)\n",
    "    sales_list = []\n",
    "    for item2 in salescsvreader:\n",
    "        sales_list.append([item2[4], int(item2[3])])\n",
    "    #print(sales_list)\n",
    "\n",
    "# Initialise variables to create reports dictionary\n",
    "report_dict = {}\n",
    "row_count= 0\n",
    "total_qty_per_ramen = 0\n",
    "total_revenue_per_ramen = 0\n",
    "cogs_ramen = 0\n",
    "net_profit_ramen = 0\n",
    "item= \n",
    "for ramen_item, ramen_qty in sales_list.sort:\n",
    "    item= ramen_item\n",
    "    if row_count <= len(sales_list):\n",
    "        while item = ramen_item\n",
    "            total_qty_per_ramen += ramen_qty\n",
    "            row_count += 1\n",
    "        item = ramen_item\n",
    "    else:   \n",
    "        \n",
    "   \n",
    "\n",
    "\n",
    "\n",
    "       \n",
    "        "
   ]
  },
  {
   "cell_type": "code",
   "execution_count": null,
   "id": "ae2484fc-ad55-4a60-aebb-75138debf96a",
   "metadata": {},
   "outputs": [],
   "source": []
  },
  {
   "cell_type": "code",
   "execution_count": null,
   "id": "e7556964-29f4-4f67-b41c-2744fdcbf529",
   "metadata": {},
   "outputs": [],
   "source": []
  }
 ],
 "metadata": {
  "kernelspec": {
   "display_name": "Python 3",
   "language": "python",
   "name": "python3"
  },
  "language_info": {
   "codemirror_mode": {
    "name": "ipython",
    "version": 3
   },
   "file_extension": ".py",
   "mimetype": "text/x-python",
   "name": "python",
   "nbconvert_exporter": "python",
   "pygments_lexer": "ipython3",
   "version": "3.7.10"
  }
 },
 "nbformat": 4,
 "nbformat_minor": 5
}
